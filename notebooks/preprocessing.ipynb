{
 "cells": [
  {
   "attachments": {},
   "cell_type": "markdown",
   "metadata": {},
   "source": [
    "# Data Preprocessing"
   ]
  },
  {
   "cell_type": "code",
   "execution_count": 2,
   "metadata": {},
   "outputs": [],
   "source": [
    "import pandas as pd\n",
    "import numpy as np\n",
    "import nltk\n",
    "import re"
   ]
  },
  {
   "cell_type": "code",
   "execution_count": 3,
   "metadata": {},
   "outputs": [],
   "source": [
    "with open(\"metadata/Ernest Hemingway.txt\", \"r\") as f:\n",
    "    author = f.read()\n",
    "    \n",
    "with open(\"metadata/The sun also rises-67138.txt\", \"r\", encoding='UTF8') as f:\n",
    "    book = f.read()\n",
    "    "
   ]
  },
  {
   "cell_type": "code",
   "execution_count": 4,
   "metadata": {},
   "outputs": [],
   "source": [
    "def build_dataset(author_name, author_bio, book_name, book_id, book_content) -> pd.DataFrame:\n",
    "    \n",
    "    df = pd.DataFrame({\"Author_Name\": [author_name], \n",
    "                       \"Author_Bio\": [author_bio], \n",
    "                       \"Book_Name\": [book_name], \n",
    "                       \"Book_ID\": [book_id], \n",
    "                       \"Book_Content\": [book_content]})\n",
    "    \n",
    "    return df"
   ]
  },
  {
   "cell_type": "code",
   "execution_count": 5,
   "metadata": {},
   "outputs": [
    {
     "data": {
      "text/html": [
       "<div>\n",
       "<style scoped>\n",
       "    .dataframe tbody tr th:only-of-type {\n",
       "        vertical-align: middle;\n",
       "    }\n",
       "\n",
       "    .dataframe tbody tr th {\n",
       "        vertical-align: top;\n",
       "    }\n",
       "\n",
       "    .dataframe thead th {\n",
       "        text-align: right;\n",
       "    }\n",
       "</style>\n",
       "<table border=\"1\" class=\"dataframe\">\n",
       "  <thead>\n",
       "    <tr style=\"text-align: right;\">\n",
       "      <th></th>\n",
       "      <th>Author_Name</th>\n",
       "      <th>Author_Bio</th>\n",
       "      <th>Book_Name</th>\n",
       "      <th>Book_ID</th>\n",
       "      <th>Book_Content</th>\n",
       "    </tr>\n",
       "  </thead>\n",
       "  <tbody>\n",
       "    <tr>\n",
       "      <th>0</th>\n",
       "      <td>Ernest Hemingway</td>\n",
       "      <td>Ernest Miller Hemingway was an American noveli...</td>\n",
       "      <td>The sun also rises</td>\n",
       "      <td>67138</td>\n",
       "      <td>The Project Gutenberg eBook of The Sun Also Ri...</td>\n",
       "    </tr>\n",
       "  </tbody>\n",
       "</table>\n",
       "</div>"
      ],
      "text/plain": [
       "        Author_Name                                         Author_Bio  \\\n",
       "0  Ernest Hemingway  Ernest Miller Hemingway was an American noveli...   \n",
       "\n",
       "            Book_Name  Book_ID  \\\n",
       "0  The sun also rises    67138   \n",
       "\n",
       "                                        Book_Content  \n",
       "0  The Project Gutenberg eBook of The Sun Also Ri...  "
      ]
     },
     "execution_count": 5,
     "metadata": {},
     "output_type": "execute_result"
    }
   ],
   "source": [
    "author_name = \"Ernest Hemingway\"\n",
    "author_bio = author\n",
    "book_name = \"The sun also rises\"\n",
    "book_id = 67138\n",
    "book_content = book\n",
    "\n",
    "train_data = build_dataset(author_name, author_bio, book_name, book_id, book_content)\n",
    "train_data"
   ]
  },
  {
   "attachments": {},
   "cell_type": "markdown",
   "metadata": {},
   "source": [
    "### Clean book content"
   ]
  },
  {
   "cell_type": "code",
   "execution_count": 6,
   "metadata": {},
   "outputs": [],
   "source": [
    "def get_book_blocks(book_content, block_size=512):\n",
    "    \n",
    "    tokenized_book = nltk.word_tokenize(book_content)\n",
    "    book_blocks = [\" \".join(tokenized_book[i:i+block_size]) for i in range(0, len(tokenized_book), block_size)]\n",
    "    \n",
    "    return book_blocks\n",
    "\n",
    "def clean_book_blocks(book_blocks):\n",
    "    \n",
    "    # remove empty blocks\n",
    "    book_blocks = [block for block in book_blocks if block.strip() != \"\"]\n",
    "    \n",
    "    # remove blocks with less than 20 tokens\n",
    "    book_blocks = [block for block in book_blocks if len(nltk.word_tokenize(block)) > 20]\n",
    "    \n",
    "    # remove special characters such as \\n, \\t, \\r\n",
    "    book_blocks = [block.replace(\"\\n\", \" \").replace(\"\\t\", \" \").replace(\"\\r\", \" \") for block in book_blocks]\n",
    "    \n",
    "    # remove multiple spaces\n",
    "    book_blocks = [re.sub(' +', ' ', block) for block in book_blocks]\n",
    "    \n",
    "    # make lowercase\n",
    "    book_blocks = [block.lower() for block in book_blocks]\n",
    "    \n",
    "    return book_blocks\n",
    "\n",
    "def block_word_count(book_blocks):\n",
    "    \n",
    "    word_count = [len(re.findall(r'\\w+', block)) for block in book_blocks]\n",
    "    \n",
    "    return word_count\n",
    "\n",
    "def block_token_count(book_blocks):\n",
    "    \n",
    "    token_size = [len(block.split()) for block in book_blocks]\n",
    "    \n",
    "    return token_size"
   ]
  },
  {
   "cell_type": "code",
   "execution_count": 7,
   "metadata": {},
   "outputs": [],
   "source": [
    "book_blocks = get_book_blocks(book_content)\n",
    "cleaned_book_blocks = clean_book_blocks(book_blocks)\n",
    "\n",
    "train_data[\"Book_Blocks\"] = [cleaned_book_blocks]\n",
    "train_data[\"Word_Count\"] = [block_word_count(cleaned_book_blocks)]\n",
    "train_data[\"Token_Count\"] = [block_token_count(cleaned_book_blocks)]"
   ]
  },
  {
   "cell_type": "code",
   "execution_count": 8,
   "metadata": {},
   "outputs": [
    {
     "data": {
      "text/html": [
       "<div>\n",
       "<style scoped>\n",
       "    .dataframe tbody tr th:only-of-type {\n",
       "        vertical-align: middle;\n",
       "    }\n",
       "\n",
       "    .dataframe tbody tr th {\n",
       "        vertical-align: top;\n",
       "    }\n",
       "\n",
       "    .dataframe thead th {\n",
       "        text-align: right;\n",
       "    }\n",
       "</style>\n",
       "<table border=\"1\" class=\"dataframe\">\n",
       "  <thead>\n",
       "    <tr style=\"text-align: right;\">\n",
       "      <th></th>\n",
       "      <th>Author_Name</th>\n",
       "      <th>Author_Bio</th>\n",
       "      <th>Book_Name</th>\n",
       "      <th>Book_ID</th>\n",
       "      <th>Book_Content</th>\n",
       "      <th>Book_Blocks</th>\n",
       "      <th>Word_Count</th>\n",
       "      <th>Token_Count</th>\n",
       "    </tr>\n",
       "  </thead>\n",
       "  <tbody>\n",
       "    <tr>\n",
       "      <th>0</th>\n",
       "      <td>Ernest Hemingway</td>\n",
       "      <td>Ernest Miller Hemingway was an American noveli...</td>\n",
       "      <td>The sun also rises</td>\n",
       "      <td>67138</td>\n",
       "      <td>The Project Gutenberg eBook of The Sun Also Ri...</td>\n",
       "      <td>[the project gutenberg ebook of the sun also r...</td>\n",
       "      <td>[459, 463, 463, 490, 490, 542, 512, 503, 514, ...</td>\n",
       "      <td>[512, 512, 512, 512, 512, 512, 512, 512, 512, ...</td>\n",
       "    </tr>\n",
       "  </tbody>\n",
       "</table>\n",
       "</div>"
      ],
      "text/plain": [
       "        Author_Name                                         Author_Bio  \\\n",
       "0  Ernest Hemingway  Ernest Miller Hemingway was an American noveli...   \n",
       "\n",
       "            Book_Name  Book_ID  \\\n",
       "0  The sun also rises    67138   \n",
       "\n",
       "                                        Book_Content  \\\n",
       "0  The Project Gutenberg eBook of The Sun Also Ri...   \n",
       "\n",
       "                                         Book_Blocks  \\\n",
       "0  [the project gutenberg ebook of the sun also r...   \n",
       "\n",
       "                                          Word_Count  \\\n",
       "0  [459, 463, 463, 490, 490, 542, 512, 503, 514, ...   \n",
       "\n",
       "                                         Token_Count  \n",
       "0  [512, 512, 512, 512, 512, 512, 512, 512, 512, ...  "
      ]
     },
     "execution_count": 8,
     "metadata": {},
     "output_type": "execute_result"
    }
   ],
   "source": [
    "train_data"
   ]
  },
  {
   "cell_type": "code",
   "execution_count": 9,
   "metadata": {},
   "outputs": [
    {
     "name": "stderr",
     "output_type": "stream",
     "text": [
      "C:\\Users\\Bonoc\\AppData\\Local\\Temp\\ipykernel_25660\\3950975221.py:20: FutureWarning: The frame.append method is deprecated and will be removed from pandas in a future version. Use pandas.concat instead.\n",
      "  train_data = train_data.append(build_dataset(author_name, author_bio, book_name, book_id, book_content), ignore_index=True)\n"
     ]
    },
    {
     "data": {
      "text/html": [
       "<div>\n",
       "<style scoped>\n",
       "    .dataframe tbody tr th:only-of-type {\n",
       "        vertical-align: middle;\n",
       "    }\n",
       "\n",
       "    .dataframe tbody tr th {\n",
       "        vertical-align: top;\n",
       "    }\n",
       "\n",
       "    .dataframe thead th {\n",
       "        text-align: right;\n",
       "    }\n",
       "</style>\n",
       "<table border=\"1\" class=\"dataframe\">\n",
       "  <thead>\n",
       "    <tr style=\"text-align: right;\">\n",
       "      <th></th>\n",
       "      <th>Author_Name</th>\n",
       "      <th>Author_Bio</th>\n",
       "      <th>Book_Name</th>\n",
       "      <th>Book_ID</th>\n",
       "      <th>Book_Content</th>\n",
       "      <th>Book_Blocks</th>\n",
       "      <th>Word_Count</th>\n",
       "      <th>Token_Count</th>\n",
       "    </tr>\n",
       "  </thead>\n",
       "  <tbody>\n",
       "    <tr>\n",
       "      <th>0</th>\n",
       "      <td>Ernest Hemingway</td>\n",
       "      <td>Ernest Miller Hemingway was an American noveli...</td>\n",
       "      <td>The sun also rises</td>\n",
       "      <td>67138</td>\n",
       "      <td>The Project Gutenberg eBook of The Sun Also Ri...</td>\n",
       "      <td>[the project gutenberg ebook of the sun also r...</td>\n",
       "      <td>[459, 463, 463, 490, 490, 542, 512, 503, 514, ...</td>\n",
       "      <td>[512, 512, 512, 512, 512, 512, 512, 512, 512, ...</td>\n",
       "    </tr>\n",
       "    <tr>\n",
       "      <th>1</th>\n",
       "      <td>Antoine de Saint-Exupery</td>\n",
       "      <td>Antoine Marie Jean-Baptiste Roger, comte de Sa...</td>\n",
       "      <td>El Principito</td>\n",
       "      <td>9999</td>\n",
       "      <td>el principito antoine de saintexupery a leon w...</td>\n",
       "      <td>NaN</td>\n",
       "      <td>NaN</td>\n",
       "      <td>NaN</td>\n",
       "    </tr>\n",
       "  </tbody>\n",
       "</table>\n",
       "</div>"
      ],
      "text/plain": [
       "                Author_Name  \\\n",
       "0          Ernest Hemingway   \n",
       "1  Antoine de Saint-Exupery   \n",
       "\n",
       "                                          Author_Bio           Book_Name  \\\n",
       "0  Ernest Miller Hemingway was an American noveli...  The sun also rises   \n",
       "1  Antoine Marie Jean-Baptiste Roger, comte de Sa...       El Principito   \n",
       "\n",
       "   Book_ID                                       Book_Content  \\\n",
       "0    67138  The Project Gutenberg eBook of The Sun Also Ri...   \n",
       "1     9999  el principito antoine de saintexupery a leon w...   \n",
       "\n",
       "                                         Book_Blocks  \\\n",
       "0  [the project gutenberg ebook of the sun also r...   \n",
       "1                                                NaN   \n",
       "\n",
       "                                          Word_Count  \\\n",
       "0  [459, 463, 463, 490, 490, 542, 512, 503, 514, ...   \n",
       "1                                                NaN   \n",
       "\n",
       "                                         Token_Count  \n",
       "0  [512, 512, 512, 512, 512, 512, 512, 512, 512, ...  \n",
       "1                                                NaN  "
      ]
     },
     "execution_count": 9,
     "metadata": {},
     "output_type": "execute_result"
    }
   ],
   "source": [
    "with open(\"metadata/Antoine de Saint-Exupery.txt\", \"r\") as f:\n",
    "    author = f.read()\n",
    "    \n",
    "with open(\"metadata/El Principito.txt\", \"r\", encoding='UTF8') as f:\n",
    "    book = f.read()\n",
    "    \n",
    "author_name = \"Antoine de Saint-Exupery\"\n",
    "author_bio = author\n",
    "book_name = \"El Principito\"\n",
    "book_id = 9999\n",
    "book_content = book\n",
    "\n",
    "book_blocks = get_book_blocks(book_content)\n",
    "cleaned_book_blocks = clean_book_blocks(book_blocks)\n",
    "\n",
    "principito_word_count = block_word_count(cleaned_book_blocks)\n",
    "principito_token_count = block_token_count(cleaned_book_blocks)\n",
    "\n",
    "# add this data as new rows to the train_data dataframe\n",
    "train_data = train_data.append(build_dataset(author_name, author_bio, book_name, book_id, book_content), ignore_index=True)\n",
    "\n",
    "train_data"
   ]
  },
  {
   "cell_type": "code",
   "execution_count": 11,
   "metadata": {},
   "outputs": [],
   "source": [
    "train_data.to_csv(\"train_data.csv\", index=False)"
   ]
  },
  {
   "cell_type": "code",
   "execution_count": null,
   "metadata": {},
   "outputs": [],
   "source": []
  }
 ],
 "metadata": {
  "kernelspec": {
   "display_name": "Python 3",
   "language": "python",
   "name": "python3"
  },
  "language_info": {
   "codemirror_mode": {
    "name": "ipython",
    "version": 3
   },
   "file_extension": ".py",
   "mimetype": "text/x-python",
   "name": "python",
   "nbconvert_exporter": "python",
   "pygments_lexer": "ipython3",
   "version": "3.11.0 (main, Oct 24 2022, 18:26:48) [MSC v.1933 64 bit (AMD64)]"
  },
  "orig_nbformat": 4,
  "vscode": {
   "interpreter": {
    "hash": "ee6a9f6861ea330318c02b3a6d9efbd1abd8633292b4b7d05428423d063c7051"
   }
  }
 },
 "nbformat": 4,
 "nbformat_minor": 2
}
