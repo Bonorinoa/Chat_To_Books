{
 "cells": [
  {
   "attachments": {},
   "cell_type": "markdown",
   "metadata": {},
   "source": [
    "# Data Collection"
   ]
  },
  {
   "cell_type": "code",
   "execution_count": 1,
   "metadata": {},
   "outputs": [],
   "source": [
    "import requests\n",
    "import json\n",
    "import os\n",
    "from bs4 import BeautifulSoup"
   ]
  },
  {
   "attachments": {},
   "cell_type": "markdown",
   "metadata": {},
   "source": [
    "## Author information"
   ]
  },
  {
   "cell_type": "code",
   "execution_count": 2,
   "metadata": {},
   "outputs": [],
   "source": [
    "def get_author_bio(author_name:str)->str:\n",
    "    base_url = \"https://en.wikipedia.org/api/rest_v1/page/summary/\"\n",
    "    url = base_url + author_name\n",
    "    response = requests.get(url)\n",
    "    data = json.loads(response.text)\n",
    "    extract = data['extract']\n",
    "    return extract\n"
   ]
  },
  {
   "cell_type": "code",
   "execution_count": 3,
   "metadata": {},
   "outputs": [],
   "source": [
    "def save_author_bio(author_name:str, bio:str,metadata_folder:str)->None:\n",
    "    filename = os.path.join(metadata_folder, author_name + \".txt\")\n",
    "    with open(filename, \"w\") as f:\n",
    "        f.write(bio)\n"
   ]
  },
  {
   "cell_type": "code",
   "execution_count": 4,
   "metadata": {},
   "outputs": [],
   "source": [
    "def get_and_save_author_bio(author_name:str,metadata_folder:str)->None:\n",
    "    bio = get_author_bio(author_name)\n",
    "    save_author_bio(author_name, bio,metadata_folder)\n"
   ]
  },
  {
   "cell_type": "code",
   "execution_count": 5,
   "metadata": {},
   "outputs": [],
   "source": [
    "get_and_save_author_bio(\"Antoine de Saint-Exupéry\", \"metadata\")"
   ]
  },
  {
   "attachments": {},
   "cell_type": "markdown",
   "metadata": {},
   "source": [
    "## Book information"
   ]
  },
  {
   "cell_type": "code",
   "execution_count": 37,
   "metadata": {},
   "outputs": [],
   "source": [
    "def download_book_by_id(book_id: int, book_folder: str, save_as: str) -> None:\n",
    "    url = f'http://www.gutenberg.org/files/{book_id}/{book_id}-0.txt'\n",
    "    response = requests.get(url)\n",
    "    if response.status_code == 404:\n",
    "        print(f'Book with id {book_id} not found')\n",
    "        return\n",
    "    book_name = f'{save_as}-{book_id}.txt'\n",
    "    filename = os.path.join(book_folder, book_name)\n",
    "    with open(filename, 'w', encoding='utf-8') as f:\n",
    "        f.write(response.text)\n",
    "    print(f'Book {book_name} has been downloaded.')"
   ]
  },
  {
   "cell_type": "code",
   "execution_count": 31,
   "metadata": {},
   "outputs": [],
   "source": [
    "def get_book_id_by_title(title: str) -> int:\n",
    "    \"\"\"\n",
    "    Returns the id of a book given its title to then used to download the book.\n",
    "    \"\"\"\n",
    "    id = 0\n",
    "    \n",
    "    return id"
   ]
  },
  {
   "cell_type": "code",
   "execution_count": 32,
   "metadata": {},
   "outputs": [],
   "source": [
    "def download_book_by_title(title: str, book_folder: str) -> None:\n",
    "    book_id = get_book_id_by_title(title)\n",
    "    if book_id:\n",
    "        download_book_by_id(book_id, book_folder)\n",
    "    else:\n",
    "        print(f'Book with title {title} not found')"
   ]
  },
  {
   "cell_type": "code",
   "execution_count": 39,
   "metadata": {},
   "outputs": [
    {
     "name": "stdout",
     "output_type": "stream",
     "text": [
      "Book The sun also rises-67138.txt has been downloaded.\n"
     ]
    }
   ],
   "source": [
    "download_book_by_id(67138, \"metadata\", save_as=\"The sun also rises\")"
   ]
  },
  {
   "cell_type": "code",
   "execution_count": 36,
   "metadata": {},
   "outputs": [
    {
     "name": "stdout",
     "output_type": "stream",
     "text": [
      "Book with title The sun also rises not found\n"
     ]
    }
   ],
   "source": [
    "download_book_by_title(\"The sun also rises\", \"metadata\")"
   ]
  },
  {
   "cell_type": "code",
   "execution_count": null,
   "metadata": {},
   "outputs": [],
   "source": []
  }
 ],
 "metadata": {
  "kernelspec": {
   "display_name": "Python 3",
   "language": "python",
   "name": "python3"
  },
  "language_info": {
   "codemirror_mode": {
    "name": "ipython",
    "version": 3
   },
   "file_extension": ".py",
   "mimetype": "text/x-python",
   "name": "python",
   "nbconvert_exporter": "python",
   "pygments_lexer": "ipython3",
   "version": "3.11.0 (main, Oct 24 2022, 18:26:48) [MSC v.1933 64 bit (AMD64)]"
  },
  "orig_nbformat": 4,
  "vscode": {
   "interpreter": {
    "hash": "ee6a9f6861ea330318c02b3a6d9efbd1abd8633292b4b7d05428423d063c7051"
   }
  }
 },
 "nbformat": 4,
 "nbformat_minor": 2
}
